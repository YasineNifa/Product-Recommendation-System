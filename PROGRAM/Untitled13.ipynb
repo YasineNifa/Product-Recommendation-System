{
 "cells": [
  {
   "cell_type": "code",
   "execution_count": 1,
   "metadata": {
    "collapsed": true
   },
   "outputs": [],
   "source": [
    "# Nous allons écrire une implémentation simple d’un algorithme de recommandation ALS afin de permettre la recommendation des produit pour les clients\n",
    "# Base de donnée utilisée : reviews_Grocery_and_Gourmet_Food_5.json\n",
    "# Les algorithmes à utiliser sont classés sous la catégorie \"Collaborative filtering\", ou filtrage collaboratif en français\n",
    "# et qui regroupe un ensemble de méthodes visant à construire des systèmes de recommendation utilisant les opinions et\n",
    "# évaluations d'un groupe pour aider l'individu.\n",
    "# L'algorithme ALS (Alternating Least Squares) est le modèle que nous utiliserons pour ajuster nos données et trouver des similitudes et il est disponible sous Spark.\n",
    "\n",
    "\n",
    "#-----------------------------------1-Importation des modules necessaires---------------------------------\n",
    "import findspark\n",
    "findspark.init('C:/Users/Mohammed/Desktop/new_folder/spark-2.4.0-bin-hadoop2.7/spark-2.4.0-bin-hadoop2.7')\n",
    "#pyspark.sql qui contient des fonctions pour la lecture des fichiers de données\n",
    "from pyspark.sql import SparkSession\n",
    "from pyspark.sql import SQLContext\n",
    "from pyspark.sql.types import *\n",
    "from pyspark.sql.functions import udf,col\n",
    "#pyspqrk.ml qui contient des fontions pour entrainer et evaluer notre modele\n",
    "from pyspark.ml.evaluation import RegressionEvaluator\n",
    "from pyspark.ml.recommendation import ALS\n",
    "from pyspark.ml.feature import StringIndexer"
   ]
  },
  {
   "cell_type": "code",
   "execution_count": 2,
   "metadata": {},
   "outputs": [
    {
     "name": "stdout",
     "output_type": "stream",
     "text": [
      "+----------+-------+-------+--------------------+-----------+--------------+---------------+--------------------+--------------+\n",
      "|      asin|helpful|overall|          reviewText| reviewTime|    reviewerID|   reviewerName|             summary|unixReviewTime|\n",
      "+----------+-------+-------+--------------------+-----------+--------------+---------------+--------------------+--------------+\n",
      "|616719923X| [0, 0]|    4.0|Just another flav...| 06 1, 2013|A1VEELTKS8NLZB|Amazon Customer|          Good Taste|    1370044800|\n",
      "|616719923X| [0, 1]|    3.0|I bought this on ...|05 19, 2014|A14R9XMZVJ6INB|        amf0001|3.5 stars,  sadly...|    1400457600|\n",
      "|616719923X| [3, 4]|    4.0|Really good. Grea...| 10 8, 2013|A27IQHDZFQFNGG|        Caitlin|                Yum!|    1381190400|\n",
      "|616719923X| [0, 0]|    5.0|I had never had i...|05 20, 2013|A31QY5TASILE89|   DebraDownSth|Unexpected flavor...|    1369008000|\n",
      "|616719923X| [1, 2]|    4.0|I've been looking...|05 26, 2013|A2LWK003FFMCI5|       Diana X.|Not a very strong...|    1369526400|\n",
      "+----------+-------+-------+--------------------+-----------+--------------+---------------+--------------------+--------------+\n",
      "only showing top 5 rows\n",
      "\n"
     ]
    }
   ],
   "source": [
    "#----------------------------------2-Lire les données en tant que dataframe------------------------------\n",
    "#En créant\n",
    "# SparkSession fournit un point d'entrée unique pour interagir avec la fonctionnalité Spark\n",
    "spark = SparkSession.builder.master('local').appName(\"Collaborative filtring\").config(\"spark.executor.memory\", \"1gb\").getOrCreate()\n",
    "sc = spark.sparkContext\n",
    "sqlContext = SQLContext(sc)\n",
    "#lire les données en utilisant read.json qui permet de lire les fichiers de type json\n",
    "df = sqlContext.read.json('Grocery_and_Gourmet_Food_5.json')\n",
    "df.show(5)"
   ]
  },
  {
   "cell_type": "code",
   "execution_count": 3,
   "metadata": {},
   "outputs": [
    {
     "name": "stdout",
     "output_type": "stream",
     "text": [
      "+----------+-------+-------+--------------+--------------------+\n",
      "|      asin|helpful|overall|    reviewerID|        reviewerName|\n",
      "+----------+-------+-------+--------------+--------------------+\n",
      "|616719923X| [0, 0]|    4.0|A1VEELTKS8NLZB|     Amazon Customer|\n",
      "|616719923X| [0, 1]|    3.0|A14R9XMZVJ6INB|             amf0001|\n",
      "|616719923X| [3, 4]|    4.0|A27IQHDZFQFNGG|             Caitlin|\n",
      "|616719923X| [0, 0]|    5.0|A31QY5TASILE89|        DebraDownSth|\n",
      "|616719923X| [1, 2]|    4.0|A2LWK003FFMCI5|            Diana X.|\n",
      "|616719923X| [0, 1]|    4.0|A1NZJTY0BAA2SK|           Elizabeth|\n",
      "|616719923X| [1, 2]|    3.0| AA95FYFIP38RM|Emily Veinglory \"...|\n",
      "|616719923X| [2, 3]|    5.0|A3FIVHUOGMUMPK|           greenlife|\n",
      "|616719923X| [0, 0]|    5.0|A27FSPAMTQF1J8|              Japhyl|\n",
      "|616719923X|[0, 10]|    1.0|A33NXNZ79H5K51|         Jean M \"JM\"|\n",
      "|616719923X| [6, 8]|    5.0|A220GN2X2R47JE|              Jeremy|\n",
      "|616719923X| [2, 3]|    5.0|A3C5Z05IKSSFB9|M. Magpoc \"malias...|\n",
      "|616719923X| [0, 0]|    5.0| AHA6G4IMEMAJR|    M. Zinn \"mczinn\"|\n",
      "|616719923X| [0, 0]|    5.0|A1Q2E3W9PRG313|             Sabrina|\n",
      "|616719923X| [0, 0]|    3.0|A1P3PLYYMURAV1|               Sunny|\n",
      "|616719923X| [0, 0]|    4.0|A38IEZF0P3ZUQJ|The Fallen Angel ...|\n",
      "|9742356831| [0, 0]|    5.0|A23RYWDS884TUL|       Another Freak|\n",
      "|9742356831| [1, 2]|    5.0| A945RBQWGZXCK|              Cheryl|\n",
      "|9742356831| [2, 2]|    5.0|A1TCSC0YWT82Q0|             GinSing|\n",
      "|9742356831| [1, 1]|    4.0|A3AMNY44OP8AOU|        Jennifer Lee|\n",
      "+----------+-------+-------+--------------+--------------------+\n",
      "only showing top 20 rows\n",
      "\n"
     ]
    }
   ],
   "source": [
    "#----------------------------------3-Data Cleaning------------------------------\n",
    "#On va supprimer quelques colonnes qu'on juge unitile à notre analyse\n",
    "df = df.select('asin', 'helpful', 'overall', 'reviewerID', 'reviewerName')\n",
    "df.show()"
   ]
  },
  {
   "cell_type": "code",
   "execution_count": 4,
   "metadata": {},
   "outputs": [
    {
     "name": "stdout",
     "output_type": "stream",
     "text": [
      "+----------+------+-------+--------------+--------------------+\n",
      "| productID|rating|helpful|    reviewerID|        reviewerName|\n",
      "+----------+------+-------+--------------+--------------------+\n",
      "|616719923X|   4.0| [0, 0]|A1VEELTKS8NLZB|     Amazon Customer|\n",
      "|616719923X|   3.0| [0, 1]|A14R9XMZVJ6INB|             amf0001|\n",
      "|616719923X|   4.0| [3, 4]|A27IQHDZFQFNGG|             Caitlin|\n",
      "|616719923X|   5.0| [0, 0]|A31QY5TASILE89|        DebraDownSth|\n",
      "|616719923X|   4.0| [1, 2]|A2LWK003FFMCI5|            Diana X.|\n",
      "|616719923X|   4.0| [0, 1]|A1NZJTY0BAA2SK|           Elizabeth|\n",
      "|616719923X|   3.0| [1, 2]| AA95FYFIP38RM|Emily Veinglory \"...|\n",
      "|616719923X|   5.0| [2, 3]|A3FIVHUOGMUMPK|           greenlife|\n",
      "|616719923X|   5.0| [0, 0]|A27FSPAMTQF1J8|              Japhyl|\n",
      "|616719923X|   1.0|[0, 10]|A33NXNZ79H5K51|         Jean M \"JM\"|\n",
      "|616719923X|   5.0| [6, 8]|A220GN2X2R47JE|              Jeremy|\n",
      "|616719923X|   5.0| [2, 3]|A3C5Z05IKSSFB9|M. Magpoc \"malias...|\n",
      "|616719923X|   5.0| [0, 0]| AHA6G4IMEMAJR|    M. Zinn \"mczinn\"|\n",
      "|616719923X|   5.0| [0, 0]|A1Q2E3W9PRG313|             Sabrina|\n",
      "|616719923X|   3.0| [0, 0]|A1P3PLYYMURAV1|               Sunny|\n",
      "|616719923X|   4.0| [0, 0]|A38IEZF0P3ZUQJ|The Fallen Angel ...|\n",
      "|9742356831|   5.0| [0, 0]|A23RYWDS884TUL|       Another Freak|\n",
      "|9742356831|   5.0| [1, 2]| A945RBQWGZXCK|              Cheryl|\n",
      "|9742356831|   5.0| [2, 2]|A1TCSC0YWT82Q0|             GinSing|\n",
      "|9742356831|   4.0| [1, 1]|A3AMNY44OP8AOU|        Jennifer Lee|\n",
      "+----------+------+-------+--------------+--------------------+\n",
      "only showing top 20 rows\n",
      "\n"
     ]
    }
   ],
   "source": [
    "#----------------------------------4-Changement du nom de certain attribut------------------------------\n",
    "df=df.withColumn('overall', df['overall'].cast(FloatType()))\n",
    "df = df.selectExpr(\"asin as productID\", \"overall as rating\", \"helpful as helpful\",\\\n",
    "                   \"reviewerID as reviewerID\", \"reviewerName as reviewerName\")\n",
    "df.show()"
   ]
  },
  {
   "cell_type": "code",
   "execution_count": 5,
   "metadata": {},
   "outputs": [
    {
     "name": "stdout",
     "output_type": "stream",
     "text": [
      "+----------+------+-------+--------------+--------------------+-------------+--------------+\n",
      "| productID|rating|helpful|    reviewerID|        reviewerName|productID_new|reviewerID_new|\n",
      "+----------+------+-------+--------------+--------------------+-------------+--------------+\n",
      "|616719923X|   4.0| [0, 0]|A1VEELTKS8NLZB|     Amazon Customer|         1870|          6633|\n",
      "|616719923X|   3.0| [0, 1]|A14R9XMZVJ6INB|             amf0001|         1870|           783|\n",
      "|616719923X|   4.0| [3, 4]|A27IQHDZFQFNGG|             Caitlin|         1870|          8454|\n",
      "|616719923X|   5.0| [0, 0]|A31QY5TASILE89|        DebraDownSth|         1870|          5294|\n",
      "|616719923X|   4.0| [1, 2]|A2LWK003FFMCI5|            Diana X.|         1870|          7498|\n",
      "|616719923X|   4.0| [0, 1]|A1NZJTY0BAA2SK|           Elizabeth|         1870|         12719|\n",
      "|616719923X|   3.0| [1, 2]| AA95FYFIP38RM|Emily Veinglory \"...|         1870|          9071|\n",
      "|616719923X|   5.0| [2, 3]|A3FIVHUOGMUMPK|           greenlife|         1870|          9823|\n",
      "|616719923X|   5.0| [0, 0]|A27FSPAMTQF1J8|              Japhyl|         1870|         12110|\n",
      "|616719923X|   1.0|[0, 10]|A33NXNZ79H5K51|         Jean M \"JM\"|         1870|          6616|\n",
      "|616719923X|   5.0| [6, 8]|A220GN2X2R47JE|              Jeremy|         1870|          7143|\n",
      "|616719923X|   5.0| [2, 3]|A3C5Z05IKSSFB9|M. Magpoc \"malias...|         1870|         10949|\n",
      "|616719923X|   5.0| [0, 0]| AHA6G4IMEMAJR|    M. Zinn \"mczinn\"|         1870|          2970|\n",
      "|616719923X|   5.0| [0, 0]|A1Q2E3W9PRG313|             Sabrina|         1870|         14413|\n",
      "|616719923X|   3.0| [0, 0]|A1P3PLYYMURAV1|               Sunny|         1870|         10484|\n",
      "|616719923X|   4.0| [0, 0]|A38IEZF0P3ZUQJ|The Fallen Angel ...|         1870|          6085|\n",
      "|9742356831|   5.0| [0, 0]|A23RYWDS884TUL|       Another Freak|         2061|         12944|\n",
      "|9742356831|   5.0| [1, 2]| A945RBQWGZXCK|              Cheryl|         2061|          9909|\n",
      "|9742356831|   5.0| [2, 2]|A1TCSC0YWT82Q0|             GinSing|         2061|          1435|\n",
      "|9742356831|   4.0| [1, 1]|A3AMNY44OP8AOU|        Jennifer Lee|         2061|          8747|\n",
      "+----------+------+-------+--------------+--------------------+-------------+--------------+\n",
      "only showing top 20 rows\n",
      "\n"
     ]
    }
   ],
   "source": [
    "#----------------------code une colonne de chaîne de caractère en une colonne d'index-------------------\n",
    "#Ajouter d'autre colonnes qui vont faciliter notre analyse, aussi transformer \n",
    "#le type de quelques colonnes string-->int\n",
    "product_indexer = StringIndexer(inputCol = \"productID\", outputCol = \"productID_new\")\n",
    "reviewer_indexer = StringIndexer(inputCol = \"reviewerID\", outputCol = \"reviewerID_new\")\n",
    "\n",
    "df2 = product_indexer.fit(df).transform(df)\n",
    "df2 = reviewer_indexer.fit(df2).transform(df2)\n",
    "\n",
    "df2 = df2.withColumn('reviewerID_new', df2['reviewerID_new'].cast(IntegerType()))\n",
    "df2 = df2.withColumn('productID_new', df2['productID_new'].cast(IntegerType()))\n",
    "df2.show()"
   ]
  },
  {
   "cell_type": "code",
   "execution_count": 6,
   "metadata": {},
   "outputs": [
    {
     "name": "stdout",
     "output_type": "stream",
     "text": [
      "Root-mean-square error = 4.704192262959549\n"
     ]
    }
   ],
   "source": [
    "#------------------------Implémentation de l'algorithme ALS--------------------------\n",
    "#On commencera par diviser notre ensemble de données en deux parties : Données de test (20%) et donnée d'apprentissage (80%)\n",
    "(training, test) = df2.randomSplit([0.8, 0.2])\n",
    "# Definition du modèle\n",
    "als = ALS(maxIter = 5, regParam = 0.01, userCol = \"reviewerID_new\", itemCol = \"productID_new\"\\\n",
    "         , ratingCol = \"rating\", coldStartStrategy = \"drop\")\n",
    "\n",
    "model = als.fit(training)\n",
    "\n",
    "# Faire des prediction sur les données de test\n",
    "predictions = model.transform(test)\n",
    "\n",
    "# Evaluer le modèle\n",
    "evaluator = RegressionEvaluator(metricName=\"rmse\", labelCol=\"rating\", predictionCol=\"prediction\")\n",
    "#Root Mean Square Error pour la distribution de données par rapport à la line de regression\n",
    "rmse = evaluator.evaluate(predictions)\n",
    "print(\"Root-mean-square error = \" + str(rmse))"
   ]
  },
  {
   "cell_type": "code",
   "execution_count": 7,
   "metadata": {},
   "outputs": [
    {
     "name": "stdout",
     "output_type": "stream",
     "text": [
      "+--------------+--------------------+\n",
      "|reviewerID_new|     recommendations|\n",
      "+--------------+--------------------+\n",
      "|          1580|[[1678, 35.47259]...|\n",
      "|          4900|[[3332, 19.778898...|\n",
      "|          5300|[[1068, 8.514068]...|\n",
      "|          6620|[[5987, 20.10723]...|\n",
      "|          7240|[[6125, 8.254153]...|\n",
      "|          7340|[[1791, 10.923169...|\n",
      "|          7880|[[2206, 7.0005302...|\n",
      "|          9900|[[1666, 5.737188]...|\n",
      "|         12940|[[2546, 9.567051]...|\n",
      "|         13840|[[1959, 15.273684...|\n",
      "|         14450|[[3016, 13.69047]...|\n",
      "|         14570|[[2548, 9.119081]...|\n",
      "|           471|[[2301, 16.142128...|\n",
      "|          1591|[[1959, 23.958126...|\n",
      "|          4101|[[2394, 29.692163...|\n",
      "|         11141|[[2431, 10.337481...|\n",
      "|          1342|[[5009, 12.26683]...|\n",
      "|          2122|[[2536, 21.467627...|\n",
      "|          2142|[[3194, 12.762062...|\n",
      "|          7982|[[5961, 8.691798]...|\n",
      "+--------------+--------------------+\n",
      "only showing top 20 rows\n",
      "\n"
     ]
    }
   ],
   "source": [
    "#Generer les top 10 produits recommendé pour un client \n",
    "userRecs = model.recommendForAllUsers(10)\n",
    "userRecs.show()"
   ]
  },
  {
   "cell_type": "code",
   "execution_count": null,
   "metadata": {
    "collapsed": true
   },
   "outputs": [],
   "source": []
  }
 ],
 "metadata": {
  "kernelspec": {
   "display_name": "Python 3",
   "language": "python",
   "name": "python3"
  },
  "language_info": {
   "codemirror_mode": {
    "name": "ipython",
    "version": 3
   },
   "file_extension": ".py",
   "mimetype": "text/x-python",
   "name": "python",
   "nbconvert_exporter": "python",
   "pygments_lexer": "ipython3",
   "version": "3.6.3"
  }
 },
 "nbformat": 4,
 "nbformat_minor": 2
}
